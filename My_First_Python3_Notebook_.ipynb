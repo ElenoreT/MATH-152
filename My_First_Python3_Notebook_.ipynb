{
  "nbformat": 4,
  "nbformat_minor": 0,
  "metadata": {
    "colab": {
      "name": "My First Python3 Notebook .ipynb",
      "provenance": [],
      "authorship_tag": "ABX9TyNeDrU71FKjlJyO9ytKX6R1",
      "include_colab_link": true
    },
    "kernelspec": {
      "name": "python3",
      "display_name": "Python 3"
    },
    "language_info": {
      "name": "python"
    }
  },
  "cells": [
    {
      "cell_type": "markdown",
      "metadata": {
        "id": "view-in-github",
        "colab_type": "text"
      },
      "source": [
        "<a href=\"https://colab.research.google.com/github/ElenoreT/MATH-152/blob/main/My_First_Python3_Notebook_.ipynb\" target=\"_parent\"><img src=\"https://colab.research.google.com/assets/colab-badge.svg\" alt=\"Open In Colab\"/></a>"
      ]
    },
    {
      "cell_type": "code",
      "execution_count": 1,
      "metadata": {
        "colab": {
          "base_uri": "https://localhost:8080/"
        },
        "id": "4tJ-w_HVxAeO",
        "outputId": "84bf5dfb-c35c-4698-ac5f-b1f3c8121320"
      },
      "outputs": [
        {
          "output_type": "execute_result",
          "data": {
            "text/plain": [
              "4"
            ]
          },
          "metadata": {},
          "execution_count": 1
        }
      ],
      "source": [
        "2+2"
      ]
    },
    {
      "cell_type": "markdown",
      "source": [
        "Exercise 1: Change the 2+2 cell above to 2**91 and re-evaluate it to find 2 raised to the 91st power.\n",
        "\n",
        "To edit a text cell like this one, double-click anywhere within its body. You can write text smoothly using the Colab interface. Text cells use a language called Markdown for easy formatting without lots of clicking. When you're done editing a Markdown cell, press shift-Enter.\n",
        "\n"
      ],
      "metadata": {
        "id": "UnDsV-ykxIAM"
      }
    },
    {
      "cell_type": "code",
      "source": [
        "2**91"
      ],
      "metadata": {
        "colab": {
          "base_uri": "https://localhost:8080/"
        },
        "id": "W4ATLEl4xTDn",
        "outputId": "75a5c485-926d-472a-8620-876e727dd7f8"
      },
      "execution_count": 2,
      "outputs": [
        {
          "output_type": "execute_result",
          "data": {
            "text/plain": [
              "2475880078570760549798248448"
            ]
          },
          "metadata": {},
          "execution_count": 2
        }
      ]
    },
    {
      "cell_type": "markdown",
      "source": [
        "\"I'm a text cell\""
      ],
      "metadata": {
        "id": "TLtg484-yK20"
      }
    },
    {
      "cell_type": "markdown",
      "source": [
        "Exercise 2: I'm a text cell. Add a text cell above me with a message, and a code cell below me with a computation."
      ],
      "metadata": {
        "id": "7Ardhy7px97d"
      }
    },
    {
      "cell_type": "code",
      "source": [
        "1+11"
      ],
      "metadata": {
        "colab": {
          "base_uri": "https://localhost:8080/"
        },
        "id": "8JpODJydyBKU",
        "outputId": "265b8a82-a95a-4ec9-adc5-6064da3bca81"
      },
      "execution_count": 3,
      "outputs": [
        {
          "output_type": "execute_result",
          "data": {
            "text/plain": [
              "12"
            ]
          },
          "metadata": {},
          "execution_count": 3
        }
      ]
    },
    {
      "cell_type": "markdown",
      "source": [
        "### Elenore Tse \n",
        "\n",
        "https://icatcare.org/advice/thinking-of-getting-a-cat/\n",
        "\n",
        "[a link to a webpage with a picture of a cat](https://icatcare.org/advice/thinking-of-getting-a-cat/)\n"
      ],
      "metadata": {
        "id": "sYLQjLvszCG_"
      }
    },
    {
      "cell_type": "markdown",
      "source": [
        "Exercise 3: Add a text cell above. Put a heading with your first and last name, and a link to webpage with a picture of a cat."
      ],
      "metadata": {
        "id": "G5M3Dinyy9cU"
      }
    },
    {
      "cell_type": "markdown",
      "source": [
        "Exercise 4: Save this notebook into your repository on GitHub. Submit the link to your repository on Canvas."
      ],
      "metadata": {
        "id": "u9gSSTAl0HQ3"
      }
    }
  ]
}